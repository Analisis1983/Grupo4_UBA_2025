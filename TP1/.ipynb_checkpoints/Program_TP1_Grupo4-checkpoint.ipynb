{
 "cells": [
  {
   "cell_type": "markdown",
   "id": "2b80b910-fa01-42bc-ac6a-9b1aad46fc01",
   "metadata": {},
   "source": [
    "# TP1 – Taller de Programación (UBA 2025)\r\n",
    "\r\n",
    "**Grupo 4:** Ángel Zapata, David Robalino y Federico Kisza  \r\n",
    "**Profesora:** María Noelia Romero  \r\n",
    "**Materia:** Taller de Programación  \r\n",
    "**Carrera:** Maestría en Economía Aplicada (UBA)  \r\n",
    "**Fecha:** 4 de octubre de 2025\r\n",
    "\r\n",
    "---\r\n",
    "\r\n",
    "## 🎯 Objetivo\r\n",
    "\r\n",
    "El presente trabajo tiene como objetivo aplicar los métodos de análisis de datos y programación en Python vistos en clase, utilizando librerías como `pandas`, `numpy`, `matplotlib` y `seaborn`, para realizar un análisis exploratorio sobre la base asignada.\r\n"
   ]
  },
  {
   "cell_type": "code",
   "execution_count": 1,
   "id": "7649fcdf-7b93-48a5-b3af-bc04179ba2ea",
   "metadata": {},
   "outputs": [
    {
     "name": "stdout",
     "output_type": "stream",
     "text": [
      "Rutas configuradas correctamente:\n",
      "📂 BASE  -> C:\\Users\\econz\\OneDrive\\Documentos\\Lecturas libros\\Cursos UBA\\Programación\\Grupo4_UBA_2025\\TP1\n",
      "📂 DATOS -> C:\\Users\\econz\\OneDrive\\Documentos\\Lecturas libros\\Cursos UBA\\Programación\\Grupo4_UBA_2025\\TP1\\datos\n",
      "📂 FIGS  -> C:\\Users\\econz\\OneDrive\\Documentos\\Lecturas libros\\Cursos UBA\\Programación\\Grupo4_UBA_2025\\TP1\\figuras\n"
     ]
    }
   ],
   "source": [
    "# ========================================================\n",
    "# SECCIÓN 1 - Importar librerías y configurar entorno\n",
    "# ========================================================\n",
    "\n",
    "import os\n",
    "import numpy as np\n",
    "import pandas as pd\n",
    "import matplotlib.pyplot as plt\n",
    "import seaborn as sns\n",
    "\n",
    "# Estilos y opciones generales\n",
    "plt.style.use('seaborn-v0_8-darkgrid')\n",
    "pd.set_option('display.max_columns', None)\n",
    "\n",
    "# Definir rutas base del trabajo\n",
    "BASE = os.path.abspath(\".\")  # Carpeta actual\n",
    "DATOS = os.path.join(BASE, \"datos\")\n",
    "FIGS  = os.path.join(BASE, \"figuras\")\n",
    "\n",
    "# Crear carpetas si no existen\n",
    "os.makedirs(DATOS, exist_ok=True)\n",
    "os.makedirs(FIGS, exist_ok=True)\n",
    "\n",
    "# Mostrar rutas configuradas\n",
    "print(\"Rutas configuradas correctamente:\")\n",
    "print(\"📂 BASE  ->\", BASE)\n",
    "print(\"📂 DATOS ->\", DATOS)\n",
    "print(\"📂 FIGS  ->\", FIGS)"
   ]
  },
  {
   "cell_type": "code",
   "execution_count": null,
   "id": "c5b248f1-7a17-48d9-8bfd-d548d4cdc67c",
   "metadata": {},
   "outputs": [
    {
     "name": "stdout",
     "output_type": "stream",
     "text": [
      "✅ Archivo 2025 encontrado: C:\\Users\\econz\\OneDrive\\Documentos\\Lecturas libros\\Cursos UBA\\Programación\\Grupo4_UBA_2025\\TP1\\datos\\usu_individual_T125.xlsx\n",
      "✅ Archivo 2005 encontrado.\n"
     ]
    }
   ],
   "source": [
    "# ========================================================\n",
    "# SECCIÓN 2 - Carga de datos EPH (2005 y 2025)\n",
    "# ========================================================\n",
    "\n",
    "# En esta sección vamos a:\n",
    "# 1️⃣ Verificar si los archivos de la EPH están en la carpeta /datos\n",
    "# 2️⃣ Cargar los archivos en formato .dta (Stata) y .xls/.xlsx (Excel)\n",
    "# 3️⃣ Mostrar la cantidad de observaciones y columnas de cada base\n",
    "\n",
    "import os\n",
    "import glob\n",
    "import pandas as pd\n",
    "\n",
    "# Definir ruta base\n",
    "DATOS = r\"C:\\Users\\econz\\OneDrive\\Documentos\\Lecturas libros\\Cursos UBA\\Programación\\Grupo4_UBA_2025\\TP1\\datos\"\n",
    "\n",
    "# Definimos las rutas de los archivos\n",
    "archivo_2005 = os.path.join(DATOS, \"Individual_t105.dta\")\n",
    "\n",
    "# Buscar automáticamente el archivo de 2025 (sea .xls o .xlsx)\n",
    "archivos_2025 = glob.glob(os.path.join(DATOS, \"usu_individual_T125.*\"))\n",
    "if archivos_2025:\n",
    "    archivo_2025 = archivos_2025[0]\n",
    "    print(\"✅ Archivo 2025 encontrado:\", archivo_2025)\n",
    "else:\n",
    "    print(\"⚠️ No se encuentra el archivo 2025.\")\n",
    "    archivo_2025 = None\n",
    "\n",
    "# Verificar si los archivos existen\n",
    "if not os.path.exists(archivo_2005):\n",
    "    print(\"⚠️ No se encuentra el archivo 2005 en:\", archivo_2005)\n",
    "else:\n",
    "    print(\"✅ Archivo 2005 encontrado.\")\n",
    "\n",
    "# Cargar los datos (si existen)\n",
    "try:\n",
    "    eph2005 = pd.read_stata(archivo_2005)\n",
    "    if archivo_2025:\n",
    "        eph2025 = pd.read_excel(archivo_2025)\n",
    "    print(\"\\n✅ Bases cargadas correctamente.\")\n",
    "except Exception as e:\n",
    "    print(\"\\n❌ Error al cargar las bases:\", e)\n",
    "\n",
    "# Mostrar información básica de cada base\n",
    "try:\n",
    "    print(\"\\n--- Información de la base 2005 ---\")\n",
    "    print(eph2005.shape)\n",
    "    print(eph2005.head(3))\n",
    "\n",
    "    print(\"\\n--- Información de la base 2025 ---\")\n",
    "    print(eph2025.shape)\n",
    "    print(eph2025.head(3))\n",
    "except:\n",
    "    print(\"⚠️ No se puede mostrar información, verifica las rutas o nombres de archivo.\")"
   ]
  },
  {
   "cell_type": "code",
   "execution_count": null,
   "id": "871f885c-c754-4a1d-99e1-9768be458e0f",
   "metadata": {},
   "outputs": [],
   "source": []
  }
 ],
 "metadata": {
  "kernelspec": {
   "display_name": "Python [conda env:base] *",
   "language": "python",
   "name": "conda-base-py"
  },
  "language_info": {
   "codemirror_mode": {
    "name": "ipython",
    "version": 3
   },
   "file_extension": ".py",
   "mimetype": "text/x-python",
   "name": "python",
   "nbconvert_exporter": "python",
   "pygments_lexer": "ipython3",
   "version": "3.11.7"
  }
 },
 "nbformat": 4,
 "nbformat_minor": 5
}
