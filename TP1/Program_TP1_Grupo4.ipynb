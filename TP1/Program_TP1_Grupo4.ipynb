{
 "cells": [
  {
   "cell_type": "markdown",
   "id": "0373c11a-81ae-4ec0-b85a-6a4c20930c27",
   "metadata": {},
   "source": [
    "# TP1 – Taller de Programación (UBA 2025)\r\n",
    "**Grupo 4:** Ánge  Zapat,  Davi  Robalin y Federico Kiszaa  \r\n",
    "**Profesora:** María Noelia Romero  \r\n",
    "**Materia:** Taller de Programación  \r\n",
    "**Carrera:** Maestría en Economía Aplicada (UBA)  \r\n",
    "**Fecha:** 4 de octubre d e2025\r\n"
   ]
  },
  {
   "cell_type": "markdown",
   "id": "7a3981cf-8e1a-4f48-b501-0422b710dbfe",
   "metadata": {},
   "source": [
    "## Objetivo\n",
    "El presente trabajo tiene como objetivo aplicar los métodos de análisis de datos y programación en Python vistos en clase, utilizando librerías como `pandas`, `numpy`, `matplotlib` y `seaborn`, para realizar un análisis exploratorio sobre la base asignada."
   ]
  },
  {
   "cell_type": "code",
   "execution_count": null,
   "id": "4886ef19-ca25-460f-a7b4-9ccd73bbf8d9",
   "metadata": {},
   "outputs": [],
   "source": []
  }
 ],
 "metadata": {
  "kernelspec": {
   "display_name": "Python [conda env:base] *",
   "language": "python",
   "name": "conda-base-py"
  },
  "language_info": {
   "codemirror_mode": {
    "name": "ipython",
    "version": 3
   },
   "file_extension": ".py",
   "mimetype": "text/x-python",
   "name": "python",
   "nbconvert_exporter": "python",
   "pygments_lexer": "ipython3",
   "version": "3.11.7"
  }
 },
 "nbformat": 4,
 "nbformat_minor": 5
}
