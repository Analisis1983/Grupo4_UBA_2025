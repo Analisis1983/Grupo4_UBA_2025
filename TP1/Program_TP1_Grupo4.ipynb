{
 "cells": [
  {
   "cell_type": "markdown",
   "id": "2b80b910-fa01-42bc-ac6a-9b1aad46fc01",
   "metadata": {},
   "source": [
    "# TP1 – Taller de Programación (UBA 2025)\r\n",
    "\r\n",
    "**Grupo 4:** Ángel Zapata, David Robalino y Federico Kisza  \r\n",
    "**Profesora:** María Noelia Romero  \r\n",
    "**Materia:** Taller de Programación  \r\n",
    "**Carrera:** Maestría en Economía Aplicada (UBA)  \r\n",
    "**Fecha:** 4 de octubre de 2025\r\n",
    "\r\n",
    "---\r\n",
    "\r\n",
    "## 🎯 Objetivo\r\n",
    "\r\n",
    "El presente trabajo tiene como objetivo aplicar los métodos de análisis de datos y programación en Python vistos en clase, utilizando librerías como `pandas`, `numpy`, `matplotlib` y `seaborn`, para realizar un análisis exploratorio sobre la base asignada.\r\n"
   ]
  },
  {
   "cell_type": "code",
   "execution_count": null,
   "id": "7649fcdf-7b93-48a5-b3af-bc04179ba2ea",
   "metadata": {},
   "outputs": [],
   "source": []
  }
 ],
 "metadata": {
  "kernelspec": {
   "display_name": "Python [conda env:base] *",
   "language": "python",
   "name": "conda-base-py"
  },
  "language_info": {
   "codemirror_mode": {
    "name": "ipython",
    "version": 3
   },
   "file_extension": ".py",
   "mimetype": "text/x-python",
   "name": "python",
   "nbconvert_exporter": "python",
   "pygments_lexer": "ipython3",
   "version": "3.11.7"
  }
 },
 "nbformat": 4,
 "nbformat_minor": 5
}
